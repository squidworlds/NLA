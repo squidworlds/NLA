{
 "cells": [
  {
   "cell_type": "markdown",
   "metadata": {},
   "source": [
    "# NLA Project\n",
    "\n",
    "This assessment is marked out of 100 and comprises 12% of the final course mark.\n",
    "\n",
    "Your project takes the form of a single Jupyter notebook, using this notebook as model. Your answers to theoretical questions and your discussions of results should be entered in Markdown cells. Mardown cells support basic LaTex and you should use this for formulas. (To edit a cell, double click on it; to render it, press shift+enter or run.) The rest should be code cells and their output. Your code must generate and display all relevant output when run.\n",
    "\n",
    "\n",
    "### Submission\n",
    "\n",
    "The project is **due by 4 pm on Friday November 15th 2024** (Week 9), to be submitted on Gradescope (DO NOT submit on Noteable).\n",
    "\n",
    "**Follow these instructions scrupulously:**\n",
    "\n",
    "1. To mimise the size of your notebook, do not include this preamble or the questions (you can start adding material to this notebook, then remove the preamble and questions to leave only your (numbered) answers, code and output).\n",
    "\n",
    "1. When your notebook is ready, **run all the cells to make sure that the output is updated and displayed**.\n",
    "\n",
    "2. Save a pdf version of the entire notebook. This shoud be a printable version in a single file, with individual pages (not a single long page). To obtain this, the safest way is in three steps: \n",
    "\n",
    "      - Produce a html version using nbconvert. In Noteable Jupyter Lab, this can be done by opening a terminal (under File > New Launcher, then selecting 'Terminal' on the page that opens) and, at the prompt, typing `jupyter nbconvert --to html filename.ipynb` with your file name as 'filename'. It is also possible to run nbconvert from a terminal in VS Code or using 'print preview' in the 'Classic Jupyter Notebook' of Noteable.\n",
    "      - Download the html file and open in your browser. \n",
    "      - In your browser, use 'print as pdf' or similar to save a multi-page pdf version. (In Chrome, use 'print' and set 'destination' to 'save as pdf'). Use a 'Lanscape' layout for the convenience of the markers.\n",
    " Avoid long lines of code which can get truncated in the pdf (you can write python statements over multiple lines using a backslash at the end of each line).\n",
    "\n",
    "3. **Submit your pdf on Gradescope** using the assignment 'Project (your pdf file)'. Please **tag your pages** with the relevant questions in Gradescope.\n",
    "\n",
    "4. **Submit also your Jupyter .ipynb file on Gradescope** using the other assignment 'Project (Jupyter notebooks, your .ipynb files only)'. We will  mark the pdf files and use only the .pynb in case of issues with the pdf.\n",
    "\n",
    "\n",
    "### Academic misconduct\n",
    "\n",
    "This assessment is summative in nature. You are expected to be aware of and abide by University policies on academic misconduct.\n",
    "\n",
    "- [School of Mathematics academic misconduct advice and policies](https://teaching.maths.ed.ac.uk/main/undergraduate/studies/assessment/academic-misconduct)\n",
    "- [Academic Services academic misconduct information](https://www.ed.ac.uk/academic-services/students/conduct/academic-misconduct)\n",
    "- [University guidance on generative AI](https://www.ed.ac.uk/bayes/ai-guidance-for-staff-and-students/ai-guidance-for-students)\n",
    "\n",
    "**This is an individual assignment - do not copy the work of another student or show your own work to another student.**\n",
    "\n",
    "If you use any resources (e.g. textbooks, websites or generative AI tools), then you must include appropriate references in your solutions. Course materials do not need to be referenced, but you should clearly state which results you are using.\n",
    "\n",
    "\n",
    "### Code commenting\n",
    "\n",
    "Your code should be commented, with the functionality of each non-trivial line of code explained. This is to test your understanding of the code you have written. Up to a quarter of the marks associated with the coding part of a question may be deducted for a missing, incomplete, or inaccurate code commentary.\n",
    "\n",
    "The following provides an example of the expected level of commenting."
   ]
  },
  {
   "cell_type": "code",
   "execution_count": null,
   "metadata": {},
   "outputs": [],
   "source": [
    "def LU(A):\n",
    "    \n",
    "    # Find dimension of A\n",
    "    n = A.shape[0]\n",
    "    \n",
    "    # Initialise L=I, U=A\n",
    "    L = np.eye(n) \n",
    "    U = np.copy(A)\n",
    "\n",
    "    for k in range(n - 1): # loop over columns 1 to n-1\n",
    "        for j in range(k + 1, n): # loop over rows k+1 to n\n",
    "            L[j, k] = U[j, k] / U[k ,k] # compute the multiplier l_jk\n",
    "            U[j, k:] = U[j, k:] - L[j, k] * U[k, k:] \n",
    "            # subtract a multiple of row k \n",
    "            # from row j to create zeros \n",
    "            # below the diagonal in column k\n",
    "    \n",
    "    return L, U # return the LU factorisation of A"
   ]
  },
  {
   "cell_type": "markdown",
   "metadata": {},
   "source": [
    "### Re-using code and built-in functions\n",
    "\n",
    "You can re-use your own code from previous workshops. You can also use the model solutions for computer lab exercises posted on Learn, and Jupyter notebooks from lecture material posted on Learn. You do NOT need to comment re-used code, but you should clearly indicate from where you have taken the code.\n",
    "\n",
    "Unless indicated otherwise, you may use any built-in Python functions as required, including numpy and scipy functions.\n",
    "\n",
    "### Code efficiency\n",
    "\n",
    "To obtain full marks, your code should be *efficient* in the sense of avoiding unnecessary artihmetic operations and having low computational cost. \n",
    "\n",
    "___"
   ]
  },
  {
   "cell_type": "markdown",
   "metadata": {},
   "source": [
    "## Question 1: QR decomposition [36 marks]\n",
    "\n",
    "$\\def\\A{\\mathbf{A}}$\n",
    "$\\def\\x{\\mathbf{x}}$ \n",
    "$\\def\\y{\\mathbf{y}}$ \n",
    "$\\def\\X{\\mathbf{X}}$ \n",
    "$\\def\\Y{\\mathbf{Y}}$ \n",
    "$\\def\\T{\\mathsf{T}}$\n",
    "$\\def\\Q{\\mathbf{Q}}$ \n",
    "$\\def\\R{\\mathbf{R}}$ \n",
    "\n",
    "**1(a)** Write a function `HouseholderQR` that implements the Householder QR algorithm in §2.4 of the lecture notes. The function should take a matrix $\\A$ as input and return the factors $\\Q$ and $\\R$. It should avoid matrix-matrix multiplications, exploiting the structure of the Householder reflection matrix $\\mathbf{H}_k$. Test your code using the function `QRtest` below. **[8 marks]**"
   ]
  },
  {
   "cell_type": "code",
   "execution_count": null,
   "metadata": {},
   "outputs": [],
   "source": [
    "import numpy as np\n",
    "\n",
    "def HouseholderQR(A):\n",
    "    \n",
    "    # ADD YOUR CODE HERE \n",
    "\n",
    "    return Q, R\n",
    "\n",
    "\n",
    "def QRtest(A,QRfun):\n",
    "    # Test Q R = A and Q^T Q = I for decomposition by function QRfun\n",
    "    Q, R = QRfun(A)\n",
    "    print('Q R = A:',np.allclose(Q @ R, A))\n",
    "    print('Q^T Q = I:',np.allclose(Q.T @ Q,np.eye(A.shape[0])))\n",
    "\n",
    "# Test QR for a random matrix\n",
    "A = np.random.randn(5,5)\n",
    "QRtest(A,HouseholderQR)\n"
   ]
  },
  {
   "cell_type": "markdown",
   "metadata": {},
   "source": [
    "**1(b)** An alternative to the Householder QR algorithm uses rotations instead of reflections. For this algorithm, the reflection matrix $\\mathbf{H}_k$ is replaced by\n",
    "$$\n",
    "\\mathbf{R}_k = \\mathbf{I} + (\\cos \\theta-1) (\\mathbf{z} \\mathbf{z}^\\T + \\mathbf{w} \\mathbf{w}^\\T) + \\sin \\theta (\\mathbf{w} \\mathbf{z}^\\T - \\mathbf{z} \\mathbf{w}^\\T),\n",
    "$$\n",
    "where, in the notation of the lecture notes,\n",
    "$$\n",
    "\\mathbf{z} = \\mathbf{u}/\\|\\mathbf{u}\\|_2, \\quad \\mathbf{v} = \\mathbf{e}_1 - z_1 \\mathbf{z}, \\quad \\mathbf{w} = \\mathbf{v}/\\|\\mathbf{v}\\|_2,\n",
    "$$\n",
    "and $\\cos \\theta = z_1$ and $\\sin \\theta = \\sqrt{1-z_1^2}$. \n",
    "\n",
    "Show that\n",
    "1. $\\mathbf{z}^\\T \\mathbf{w} = 0$,\n",
    "2. $\\|\\mathbf{v}\\|_2 = \\sin \\theta$,\n",
    "3. $\\cos \\theta \\, \\mathbf{z} + \\sin \\theta \\, \\mathbf{w} = \\mathbf{e}_1$,\n",
    "1. $\\mathbf{R}_k \\mathbf{u} = \\|\\mathbf{u}\\|_2 \\mathbf{e}_1$, and\n",
    "2. $\\mathbf{R}_k$ is orthogonal.\n",
    "\n",
    "The last two properties verify that $\\mathbf{R}_k$, like the Householder reflection, corresponds to an orthogonal transformation that eliminates all but the first entry of $\\mathbf{u}$. **[8 marks]**\n",
    "\n",
    "**1(c)** Write a function `RotationQR` that implements this alternative algorithm. Like `HouseholderQR` it should avoid matrix-matrix multiplications. Test your code with `QRtest`. Note that $\\mathbf{R}_k$ is not symmetric,  so some changes are required compared with the Householder algorithm. **[10 marks]**"
   ]
  },
  {
   "cell_type": "code",
   "execution_count": null,
   "metadata": {},
   "outputs": [],
   "source": [
    "def RotationQR(A):\n",
    "    \n",
    "    # ADD YOUR CODE HERE\n",
    "\n",
    "    return Q, R\n",
    "\n",
    "# Test QR for a random matrix\n",
    "A = np.random.randn(5,5)\n",
    "QRtest(A,RotationQR)\n"
   ]
  },
  {
   "cell_type": "markdown",
   "metadata": {},
   "source": [
    "**1(d)** Compare, through numerical experiments, the computational time and accuracy of your two QR decomposition algorithms as a function of matrix size for random matrices. Use $\\| \\Q ^\\T \\Q - \\mathbf{I} \\|_2$ and $\\| \\Q \\R - \\A \\|_2$ to measure the error and consider matrix sizes up to 1600. Show your results in the form of a table **and** suitable figures. Comment on the results. **[10 marks]**"
   ]
  },
  {
   "cell_type": "code",
   "execution_count": null,
   "metadata": {},
   "outputs": [],
   "source": [
    "# ADD YOUR CODE HERE"
   ]
  },
  {
   "cell_type": "markdown",
   "metadata": {},
   "source": [
    "___"
   ]
  },
  {
   "cell_type": "markdown",
   "metadata": {},
   "source": [
    "## Question 2: matrix recovery [28 marks]\n",
    "\n",
    "$\\def\\A{\\mathbf{A}}$\n",
    "$\\def\\x{\\mathbf{x}}$ \n",
    "$\\def\\y{\\mathbf{y}}$ \n",
    "$\\def\\X{\\mathbf{X}}$ \n",
    "$\\def\\Y{\\mathbf{Y}}$ \n",
    "$\\def\\T{\\mathsf{T}}$\n",
    "$\\def\\Q{\\mathbf{Q}}$ \n",
    "\n",
    "A common problem involves estimating a matrix $\\A \\in \\mathbb{R}^{n \\times n}$ from its action on a set of vectors $\\x^{(i)} \\in \\mathbb{R}^{n}$ with $i=1,\\cdots,m$. Suppose we are given a set of pairs $(\\x^{(i)}, \\y^{(i)})$,  where $\\y^{(i)} \\approx \\A  \\x^{(i)}$ and the approximate equality accounts for the presence of errors or noise. An estimate for $\\A$ can be obtained by solving the least-square matrix problem\n",
    "$$\n",
    "\\min_{\\A} \\sum_{i=1}^m \\| \\A \\x^{(i)} - \\y^{(i)} \\|^2,\n",
    "$$\n",
    "where the minimisation is over the entries $a_{ij}$ of $\\A$. Throughout we use the (Euclidean) 2-norm and omit the subscript 2. \n",
    "\n",
    "**2(a)** Show that if $\\A$ the minimises $\\sum_{i=1}^m \\| \\A \\x^{(i)} - \\y^{(i)} \\|^2$, it satisfies \n",
    "$$\n",
    "\\A \\X = \\Y \\quad \\textrm{where} \\ \\ \\X = \\sum_{i=1}^m \\x^{(i)} {\\x^{(i)}}^\\T \\ \\ \\textrm{and} \\ \\\n",
    " \\Y= \\sum_{i=1}^m \\y^{(i)} {\\x^{(i)}}^\\T.\n",
    "$$\n",
    "(Hints: The derivative of $\\sum_{i=1}^m \\| \\A \\x^{(i)} - \\y^{(i)} \\|^2$ with respect to each entry $a_{pq}$ of $\\A$ vanishes at the minimum. Note that $\\partial a_{ij} / \\partial a_{pq} = \\delta_{ip} \\delta_{jq}$ where $\\delta_{ij}$ denotes the Kronecker symbol.) **[8 marks]**\n",
    "\n",
    "It is also true that if $\\A$ satisfies $\\A \\X = \\Y$, it minimises $\\sum_{i=1}^m \\| \\A \\x^{(i)} - \\y^{(i)} \\|^2$. You do not need to show this.\n",
    "\n",
    "**2(b)** Write a function `LSQMatrix` that takes as input a list of pairs of vectors $(\\x^{(i)}, \\y^{(i)}), \\, i=1,\\cdots,m$ and returns the least-square estimate for $\\A$, $\\A_{rec}$ say. You can use `numpy.linalg.solve` to solve linear systems.\n",
    "Test your function on the list of vectors generated by the function `noisyPairs` coded below. This print $\\A$, $\\A_{rec}$ and the recovery error $\\| \\A - \\A_{rec}\\|_2$. **[8 marks]**"
   ]
  },
  {
   "cell_type": "code",
   "execution_count": null,
   "metadata": {},
   "outputs": [],
   "source": [
    "import numpy as np\n",
    "\n",
    "def LSQMatrix(listPairs):\n",
    "    \n",
    "    # ADD YOUR CODE HERE\n",
    "\n",
    "    return Arec\n",
    "\n",
    "def noisyPairs(A,m,eps):\n",
    "    # Generates pairs (x^i,y^i) with y^i = A x^i + noise\n",
    "    # m is number of pairs, eps is noise amplitude\n",
    "    n = A.shape[0]\n",
    "    listPairs = []\n",
    "    for i in range(m):\n",
    "        x = np.random.randn(n)\n",
    "        y = A @ x + eps * np.random.randn(n)\n",
    "        listPairs.append([x,y])\n",
    "    return listPairs\n",
    "\n",
    "A = np.array([[2,-3,3],[4,-2,2],[-1,1,5]]) # Example matrix\n",
    "listPairs = noisyPairs(A,30,0.3)\n",
    "\n",
    "Arec = LSQMatrix(listPairs)\n",
    "print('Generating A\\n', A, '\\n')\n",
    "print('Recovered A\\n', Arec, '\\n')\n",
    "print('Recovery error = ',np.linalg.norm(A-Arec,2))"
   ]
  },
  {
   "cell_type": "markdown",
   "metadata": {},
   "source": [
    "**2(c)** Examine how the recovery error depends on the number $m$ of pairs and on the noise level (the variable `eps` in `noisyPairs`). Illustrate your results with figures. **[10 marks]**"
   ]
  },
  {
   "cell_type": "code",
   "execution_count": null,
   "metadata": {},
   "outputs": [],
   "source": [
    "# ADD YOUR CODE HERE"
   ]
  },
  {
   "cell_type": "markdown",
   "metadata": {},
   "source": [
    "___"
   ]
  },
  {
   "cell_type": "markdown",
   "metadata": {},
   "source": [
    "# $\\def\\A{\\mathbf{A}}$\n",
    "$\\def\\x{\\mathbf{x}}$ \n",
    "$\\def\\y{\\mathbf{y}}$ \n",
    "$\\def\\X{\\mathbf{X}}$ \n",
    "$\\def\\Y{\\mathbf{Y}}$ \n",
    "$\\def\\T{\\mathsf{T}}$\n",
    "$\\def\\Q{\\mathbf{Q}}$ \n",
    "\n",
    "## Question 3: orthogonal matrix recovery [36 marks]\n",
    "\n",
    "Suppose now that the matrix to recover is known to be orthogonal: $\\A^\\T \\A = \\mathbf{I}$. It can be estimated by the orthogonal matrix $\\Q$ solving the constrained least-square problem\n",
    "$$\n",
    "    \\min_{\\Q} \\sum_{i=1}^m \\| \\Q \\x^{(i)} - \\y^{(i)} \\|^2 \\quad \\textrm{subject to} \\ \\ \\Q^\\T \\Q = \\mathbf{I}.\n",
    "$$\n",
    "\n",
    "**3(a)** Show that $\\Q$ solves the equivalent problem **[4 marks]**\n",
    "$$\n",
    "    \\max_{\\Q} \\sum_{i=1}^m {\\y^{(i)}}^\\T \\Q \\x^{(i)}  \\quad \\textrm{subject to} \\ \\ \\Q^\\T \\Q = \\mathbf{I}.\n",
    "$$\n",
    "\n",
    "\n",
    "**3(b)** Deduce that $\\Q$ satisfies\n",
    "$$\n",
    "\\Q \\mathbf{S} = \\Y \\quad \\textrm{where} \\ \\ \\Y= \\sum_{i=1}^m \\y^{(i)} {\\x^{(i)}}^\\T,\n",
    "$$\n",
    "and $\\mathbf{S}$ is a symmetric matrix. (Hint: use $n^2$ Lagrange multipliers, $\\lambda_{kl}$ say, to enforce the $n^2$ constraints $\\Q^\\T \\Q = \\mathbf{I}$. This leads to extremising \n",
    "$$\n",
    "\\sum_{i=1}^m {\\y^{(i)}}^\\T \\Q \\x^{(i)} + \\sum_{k=1}^n \\sum_{l=1}^n \\lambda_{kl} (\\Q^\\T \\Q - \\mathbf{I})_{kl}\n",
    "$$\n",
    "with respect to the entries $q_{pr}$ of the matrix $\\Q$ and to the multipliers $\\lambda_{pr}$.) **[8 marks]**\n",
    "\n",
    "**3(c)** Show that $\\Q$ and $\\Y$ are related by\n",
    "$$\n",
    "\\Y \\Q^\\T = \\Q \\Y^\\T.\n",
    "$$\n",
    "This, together with the orthogonality condition, turns out to determine $\\Q$ uniquely. **[2 marks]**\n",
    "\n",
    "**3(d)** An iterative method for the computation of $\\Q$ is as follows: set $\\Q_0 = \\Y$ and perform the iteration\n",
    "$$\n",
    "\\Q_{k+1} = \\tfrac{1}{2} \\left(\\Q_k + \\Q_k^{-\\T} \\right),\n",
    "$$\n",
    "where $ \\Q_k^{-\\T} = (\\Q_k^{-1})^\\T$. Show that if the iteration converges as $k \\to \\infty$, the limit $\\Q_\\infty = \\lim_{k\\to \\infty} \\Q_k$ satisfies \n",
    "1.  $\\Q_\\infty^\\T \\Q_\\infty = \\mathbf{I}$, and\n",
    "2. $\\Y \\Q_\\infty ^\\T = \\Q_\\infty  \\Y^\\T$. \n",
    "\n",
    "Therefore $\\Q_\\infty$ is the solution to the constrained least-square problem. (Hint: for 2., use induction to show that \n",
    "$$\n",
    "\\Y \\Q_k^\\T = \\Q_k \\Y^\\T \\quad \\textrm{and} \\quad  \\Q_k^\\T \\Y = \\Y^\\T \\Q_k \n",
    "$$ \n",
    "for $k=1,2,\\cdots$ and deduce the result by taking the limit $k \\to \\infty$.) **[10 marks]**\n",
    "\n",
    "**3(e)** Write a function `LSQMatrixQ` that takes as input a list of pairs of vectors $(\\x^{(i)}, \\y^{(i)}), \\, i=1,\\cdots,m$ and a tolerance $\\epsilon_r > 0$ and returns an approximation  for the least-square estimate $\\Q$. Use the iteration in 3(d) with the condition $\\| \\Q_k^\\T \\Q_k - \\mathbf{I}  \\| < \\epsilon_r$ as stopping condition. Test your function with the data `listPairs` generated by the code below which prints your least-square estimate $\\Q$ and the recovery error. You can use `np.linalg.inv` to invert $\\Q_k$. **[12 marks]**"
   ]
  },
  {
   "cell_type": "code",
   "execution_count": null,
   "metadata": {},
   "outputs": [],
   "source": [
    "def LSQMatrixQ(listPairs, eps):\n",
    "\n",
    "     # ADD YOUR CODE HERE\n",
    "\n",
    "    return Q\n",
    "\n",
    "A, _ = np.linalg.qr(np.array([[2,-3,3],[4,-2,2],[-1,1,5]]))\n",
    "listPairs = noisyPairs(A,30,0.3)\n",
    "\n",
    "Q = LSQMatrixQ(listPairs,1e-6)\n",
    "print('Generating A\\n', A, '\\n')\n",
    "print('Recovered Q\\n', Q, '\\n')\n",
    "print('Recovery error = ',np.linalg.norm(A-Q,2))\n",
    "\n"
   ]
  },
  {
   "cell_type": "markdown",
   "metadata": {},
   "source": [
    "**3(f)** Compare the recovery error achieved by `LSQMatrix` and `LSQMatrixQ` on randomly generated orthogonal matrices to examine the benefit of incorporating the orthogonality constraint in the least square approximation. Present your results in a figure (e.g. a scatter plot of the recovery error by the two methods) and comment. **[8 marks]**"
   ]
  },
  {
   "cell_type": "code",
   "execution_count": null,
   "metadata": {},
   "outputs": [],
   "source": [
    "# ADD YOUR CODE HERE"
   ]
  },
  {
   "cell_type": "markdown",
   "metadata": {},
   "source": [
    "___"
   ]
  }
 ],
 "metadata": {
  "kernelspec": {
   "display_name": "Python 3 (ipykernel)",
   "language": "python",
   "name": "python3"
  },
  "language_info": {
   "codemirror_mode": {
    "name": "ipython",
    "version": 3
   },
   "file_extension": ".py",
   "mimetype": "text/x-python",
   "name": "python",
   "nbconvert_exporter": "python",
   "pygments_lexer": "ipython3",
   "version": "3.9.19"
  }
 },
 "nbformat": 4,
 "nbformat_minor": 4
}
